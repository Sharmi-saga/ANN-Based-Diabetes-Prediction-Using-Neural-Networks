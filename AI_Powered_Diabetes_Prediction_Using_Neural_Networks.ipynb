{
  "nbformat": 4,
  "nbformat_minor": 0,
  "metadata": {
    "colab": {
      "provenance": []
    },
    "kernelspec": {
      "name": "python3",
      "display_name": "Python 3"
    },
    "language_info": {
      "name": "python"
    }
  },
  "cells": [
    {
      "cell_type": "markdown",
      "source": [],
      "metadata": {
        "id": "4krt_LFritjs"
      }
    },
    {
      "cell_type": "code",
      "source": [
        "import pickle\n",
        "import numpy as np\n",
        "import pandas as pd\n",
        "import tensorflow as tf\n",
        "import matplotlib.pyplot as plt\n",
        "import seaborn as sns\n",
        "from tensorflow.keras.models import Sequential\n",
        "from tensorflow.keras.layers import Dense, Dropout\n",
        "from sklearn.model_selection import train_test_split\n",
        "from sklearn.preprocessing import StandardScaler\n",
        "from sklearn.metrics import confusion_matrix, accuracy_score\n",
        "from tensorflow.keras.callbacks import EarlyStopping, ReduceLROnPlateau"
      ],
      "metadata": {
        "id": "j0zx7BvJivaj"
      },
      "execution_count": 2,
      "outputs": []
    },
    {
      "cell_type": "code",
      "source": [
        "dataset = pd.read_csv('Healthcare-Diabetes.csv')"
      ],
      "metadata": {
        "id": "Y5xP1MmKi1VR"
      },
      "execution_count": 5,
      "outputs": []
    },
    {
      "cell_type": "code",
      "source": [
        "dataset.info()"
      ],
      "metadata": {
        "colab": {
          "base_uri": "https://localhost:8080/"
        },
        "id": "Jti5l0WGpWKz",
        "outputId": "62721c7e-ddd7-4d74-a4f8-3ca87d82ff65"
      },
      "execution_count": null,
      "outputs": [
        {
          "output_type": "stream",
          "name": "stdout",
          "text": [
            "<class 'pandas.core.frame.DataFrame'>\n",
            "RangeIndex: 2768 entries, 0 to 2767\n",
            "Data columns (total 10 columns):\n",
            " #   Column                    Non-Null Count  Dtype  \n",
            "---  ------                    --------------  -----  \n",
            " 0   Id                        2768 non-null   int64  \n",
            " 1   Pregnancies               2768 non-null   int64  \n",
            " 2   Glucose                   2768 non-null   int64  \n",
            " 3   BloodPressure             2768 non-null   int64  \n",
            " 4   SkinThickness             2768 non-null   int64  \n",
            " 5   Insulin                   2768 non-null   int64  \n",
            " 6   BMI                       2768 non-null   float64\n",
            " 7   DiabetesPedigreeFunction  2768 non-null   float64\n",
            " 8   Age                       2768 non-null   int64  \n",
            " 9   Outcome                   2768 non-null   int64  \n",
            "dtypes: float64(2), int64(8)\n",
            "memory usage: 216.4 KB\n"
          ]
        }
      ]
    },
    {
      "cell_type": "code",
      "source": [
        "dataset.isnull().sum()"
      ],
      "metadata": {
        "colab": {
          "base_uri": "https://localhost:8080/",
          "height": 398
        },
        "id": "cTsaTRZ2pYHP",
        "outputId": "a8d1f5ec-7217-481d-fd38-d6cc5988565e"
      },
      "execution_count": 6,
      "outputs": [
        {
          "output_type": "execute_result",
          "data": {
            "text/plain": [
              "Id                          0\n",
              "Pregnancies                 0\n",
              "Glucose                     0\n",
              "BloodPressure               0\n",
              "SkinThickness               0\n",
              "Insulin                     0\n",
              "BMI                         0\n",
              "DiabetesPedigreeFunction    0\n",
              "Age                         0\n",
              "Outcome                     0\n",
              "dtype: int64"
            ],
            "text/html": [
              "<div>\n",
              "<style scoped>\n",
              "    .dataframe tbody tr th:only-of-type {\n",
              "        vertical-align: middle;\n",
              "    }\n",
              "\n",
              "    .dataframe tbody tr th {\n",
              "        vertical-align: top;\n",
              "    }\n",
              "\n",
              "    .dataframe thead th {\n",
              "        text-align: right;\n",
              "    }\n",
              "</style>\n",
              "<table border=\"1\" class=\"dataframe\">\n",
              "  <thead>\n",
              "    <tr style=\"text-align: right;\">\n",
              "      <th></th>\n",
              "      <th>0</th>\n",
              "    </tr>\n",
              "  </thead>\n",
              "  <tbody>\n",
              "    <tr>\n",
              "      <th>Id</th>\n",
              "      <td>0</td>\n",
              "    </tr>\n",
              "    <tr>\n",
              "      <th>Pregnancies</th>\n",
              "      <td>0</td>\n",
              "    </tr>\n",
              "    <tr>\n",
              "      <th>Glucose</th>\n",
              "      <td>0</td>\n",
              "    </tr>\n",
              "    <tr>\n",
              "      <th>BloodPressure</th>\n",
              "      <td>0</td>\n",
              "    </tr>\n",
              "    <tr>\n",
              "      <th>SkinThickness</th>\n",
              "      <td>0</td>\n",
              "    </tr>\n",
              "    <tr>\n",
              "      <th>Insulin</th>\n",
              "      <td>0</td>\n",
              "    </tr>\n",
              "    <tr>\n",
              "      <th>BMI</th>\n",
              "      <td>0</td>\n",
              "    </tr>\n",
              "    <tr>\n",
              "      <th>DiabetesPedigreeFunction</th>\n",
              "      <td>0</td>\n",
              "    </tr>\n",
              "    <tr>\n",
              "      <th>Age</th>\n",
              "      <td>0</td>\n",
              "    </tr>\n",
              "    <tr>\n",
              "      <th>Outcome</th>\n",
              "      <td>0</td>\n",
              "    </tr>\n",
              "  </tbody>\n",
              "</table>\n",
              "</div><br><label><b>dtype:</b> int64</label>"
            ]
          },
          "metadata": {},
          "execution_count": 6
        }
      ]
    },
    {
      "cell_type": "code",
      "source": [
        "dataset = dataset.drop(columns=['Id'])"
      ],
      "metadata": {
        "id": "zxATLa4opaA4"
      },
      "execution_count": null,
      "outputs": []
    },
    {
      "cell_type": "code",
      "source": [
        "plt.figure(figsize=(6,4))\n",
        "sns.countplot(x='Outcome', data=dataset)\n",
        "plt.title('Distribution of Diabetes Outcome (0 = No, 1 = Yes)')\n",
        "plt.xlabel('Outcome')\n",
        "plt.ylabel('Count')\n",
        "plt.show()"
      ],
      "metadata": {
        "colab": {
          "base_uri": "https://localhost:8080/",
          "height": 410
        },
        "id": "0HyC43nquRn5",
        "outputId": "836cbc2f-7d6f-4b98-ba62-a77ae99cb837"
      },
      "execution_count": 7,
      "outputs": [
        {
          "output_type": "display_data",
          "data": {
            "text/plain": [
              "<Figure size 600x400 with 1 Axes>"
            ],
            "image/png": "[encoded data removed]"
          },
          "metadata": {}
        }
      ]
    },
    {
      "cell_type": "code",
      "source": [
        "# This cell depends on the 'dataset' variable being defined in a previous cell.\n",
        "X = dataset.iloc[:, :-1].values  # Features\n",
        "y = dataset.iloc[:, -1].values   # Target"
      ],
      "metadata": {
        "id": "y9R-NYLOp-7b"
      },
      "execution_count": 8,
      "outputs": []
    },
    {
      "cell_type": "code",
      "source": [
        "dataset.fillna(dataset.mean(), inplace=True)"
      ],
      "metadata": {
        "id": "L2lypD7VqBbU"
      },
      "execution_count": 9,
      "outputs": []
    },
    {
      "cell_type": "code",
      "source": [
        "sc = StandardScaler()\n",
        "X = sc.fit_transform(X)"
      ],
      "metadata": {
        "id": "XU8yx8ykqDSn"
      },
      "execution_count": 10,
      "outputs": []
    },
    {
      "cell_type": "code",
      "source": [
        "X_train, X_test, y_train, y_test = train_test_split(X, y, test_size=0.2, random_state=0)"
      ],
      "metadata": {
        "id": "J4oIN6NfqFTp"
      },
      "execution_count": 11,
      "outputs": []
    },
    {
      "cell_type": "code",
      "source": [
        "model = Sequential()"
      ],
      "metadata": {
        "id": "CkEQYif5qHL4"
      },
      "execution_count": 12,
      "outputs": []
    },
    {
      "cell_type": "code",
      "source": [
        "model.add(Dense(units=512, activation='relu', input_dim=X_train.shape[1]))"
      ],
      "metadata": {
        "colab": {
          "base_uri": "https://localhost:8080/"
        },
        "id": "8MXw8TaQqIru",
        "outputId": "aa9123c5-c310-453b-f02f-b14128efcf6f"
      },
      "execution_count": 13,
      "outputs": [
        {
          "output_type": "stream",
          "name": "stderr",
          "text": [
            "/usr/local/lib/python3.11/dist-packages/keras/src/layers/core/dense.py:87: UserWarning: Do not pass an `input_shape`/`input_dim` argument to a layer. When using Sequential models, prefer using an `Input(shape)` object as the first layer in the model instead.\n",
            "  super().__init__(activity_regularizer=activity_regularizer, **kwargs)\n"
          ]
        }
      ]
    },
    {
      "cell_type": "code",
      "source": [
        "model.add(Dropout(0.4))"
      ],
      "metadata": {
        "id": "hf4DsKMHqKlY"
      },
      "execution_count": null,
      "outputs": []
    },
    {
      "cell_type": "code",
      "source": [
        "model.add(Dense(units=512, activation='relu'))"
      ],
      "metadata": {
        "id": "CAVtn0rXqMfX"
      },
      "execution_count": 14,
      "outputs": []
    },
    {
      "cell_type": "code",
      "source": [
        "model.add(Dropout(0.4))"
      ],
      "metadata": {
        "id": "uyNx5Oo-qOE-"
      },
      "execution_count": 15,
      "outputs": []
    },
    {
      "cell_type": "code",
      "source": [
        "model.add(Dense(units=512, activation='relu'))"
      ],
      "metadata": {
        "id": "yK2spEPWqP1q"
      },
      "execution_count": 16,
      "outputs": []
    },
    {
      "cell_type": "code",
      "source": [
        "model.add(Dense(units=1, activation='sigmoid'))"
      ],
      "metadata": {
        "id": "H_9JpX6EqRuh"
      },
      "execution_count": 17,
      "outputs": []
    },
    {
      "cell_type": "code",
      "source": [
        "optimizer = tf.keras.optimizers.Adam(learning_rate=0.0005)\n",
        "model.compile(optimizer=optimizer, loss='binary_crossentropy', metrics=['accuracy'])"
      ],
      "metadata": {
        "id": "sIzbGm0jqTmC"
      },
      "execution_count": 18,
      "outputs": []
    },
    {
      "cell_type": "code",
      "source": [
        "early_stopping = EarlyStopping(monitor='val_loss', patience=50, restore_best_weights=True)"
      ],
      "metadata": {
        "id": "BXtzPtHwqVzr"
      },
      "execution_count": 19,
      "outputs": []
    },
    {
      "cell_type": "code",
      "source": [
        "lr_scheduler = ReduceLROnPlateau(monitor='val_loss', factor=0.5, patience=10, verbose=1)\n"
      ],
      "metadata": {
        "id": "bUxwrnKiqYlJ"
      },
      "execution_count": 20,
      "outputs": []
    },
    {
      "cell_type": "code",
      "source": [
        "history = model.fit(X_train, y_train, batch_size=64, epochs=500, validation_data=(X_test, y_test),\n",
        "                    callbacks=[early_stopping, lr_scheduler])"
      ],
      "metadata": {
        "colab": {
          "base_uri": "https://localhost:8080/"
        },
        "id": "oeiuoBhIqaGw",
        "outputId": "f40f5bcc-13f9-4f46-b506-f0335e5dfe64"
      },
      "execution_count": 21,
      "outputs": [
        {
          "output_type": "stream",
          "name": "stdout",
          "text": [
            "Epoch 1/500\n",
            "\u001b[1m35/35\u001b[0m \u001b[32m━━━━━━━━━━━━━━━━━━━━\u001b[0m\u001b[37m\u001b[0m \u001b[1m3s\u001b[0m 23ms/step - accuracy: 0.7079 - loss: 0.5675 - val_accuracy: 0.7671 - val_loss: 0.4676 - learning_rate: 5.0000e-04\n",
            "Epoch 2/500\n",
            "\u001b[1m35/35\u001b[0m \u001b[32m━━━━━━━━━━━━━━━━━━━━\u001b[0m\u001b[37m\u001b[0m \u001b[1m1s\u001b[0m 18ms/step - accuracy: 0.7906 - loss: 0.4555 - val_accuracy: 0.7617 - val_loss: 0.4585 - learning_rate: 5.0000e-04\n",
            "Epoch 3/500\n",
            "\u001b[1m35/35\u001b[0m \u001b[32m━━━━━━━━━━━━━━━━━━━━\u001b[0m\u001b[37m\u001b[0m \u001b[1m2s\u001b[0m 25ms/step - accuracy: 0.8123 - loss: 0.4172 - val_accuracy: 0.7780 - val_loss: 0.4524 - learning_rate: 5.0000e-04\n",
            "Epoch 4/500\n",
            "\u001b[1m35/35\u001b[0m \u001b[32m━━━━━━━━━━━━━━━━━━━━\u001b[0m\u001b[37m\u001b[0m \u001b[1m1s\u001b[0m 30ms/step - accuracy: 0.8109 - loss: 0.4098 - val_accuracy: 0.7960 - val_loss: 0.4231 - learning_rate: 5.0000e-04\n",
            "Epoch 5/500\n",
            "\u001b[1m35/35\u001b[0m \u001b[32m━━━━━━━━━━━━━━━━━━━━\u001b[0m\u001b[37m\u001b[0m \u001b[1m1s\u001b[0m 19ms/step - accuracy: 0.8039 - loss: 0.3975 - val_accuracy: 0.8339 - val_loss: 0.4100 - learning_rate: 5.0000e-04\n",
            "Epoch 6/500\n",
            "\u001b[1m35/35\u001b[0m \u001b[32m━━━━━━━━━━━━━━━━━━━━\u001b[0m\u001b[37m\u001b[0m \u001b[1m1s\u001b[0m 17ms/step - accuracy: 0.8096 - loss: 0.4051 - val_accuracy: 0.7924 - val_loss: 0.4225 - learning_rate: 5.0000e-04\n",
            "Epoch 7/500\n",
            "\u001b[1m35/35\u001b[0m \u001b[32m━━━━━━━━━━━━━━━━━━━━\u001b[0m\u001b[37m\u001b[0m \u001b[1m1s\u001b[0m 21ms/step - accuracy: 0.8232 - loss: 0.3709 - val_accuracy: 0.8177 - val_loss: 0.4037 - learning_rate: 5.0000e-04\n",
            "Epoch 8/500\n",
            "\u001b[1m35/35\u001b[0m \u001b[32m━━━━━━━━━━━━━━━━━━━━\u001b[0m\u001b[37m\u001b[0m \u001b[1m1s\u001b[0m 15ms/step - accuracy: 0.8221 - loss: 0.3779 - val_accuracy: 0.8267 - val_loss: 0.3930 - learning_rate: 5.0000e-04\n",
            "Epoch 9/500\n",
            "\u001b[1m35/35\u001b[0m \u001b[32m━━━━━━━━━━━━━━━━━━━━\u001b[0m\u001b[37m\u001b[0m \u001b[1m1s\u001b[0m 16ms/step - accuracy: 0.8363 - loss: 0.3491 - val_accuracy: 0.8177 - val_loss: 0.4043 - learning_rate: 5.0000e-04\n",
            "Epoch 10/500\n",
            "\u001b[1m35/35\u001b[0m \u001b[32m━━━━━━━━━━━━━━━━━━━━\u001b[0m\u001b[37m\u001b[0m \u001b[1m1s\u001b[0m 15ms/step - accuracy: 0.8534 - loss: 0.3300 - val_accuracy: 0.8159 - val_loss: 0.3843 - learning_rate: 5.0000e-04\n",
            "Epoch 11/500\n",
            "\u001b[1m35/35\u001b[0m \u001b[32m━━━━━━━━━━━━━━━━━━━━\u001b[0m\u001b[37m\u001b[0m \u001b[1m1s\u001b[0m 16ms/step - accuracy: 0.8435 - loss: 0.3396 - val_accuracy: 0.8484 - val_loss: 0.3612 - learning_rate: 5.0000e-04\n",
            "Epoch 12/500\n",
            "\u001b[1m35/35\u001b[0m \u001b[32m━━━━━━━━━━━━━━━━━━━━\u001b[0m\u001b[37m\u001b[0m \u001b[1m1s\u001b[0m 16ms/step - accuracy: 0.8649 - loss: 0.3086 - val_accuracy: 0.8032 - val_loss: 0.3926 - learning_rate: 5.0000e-04\n",
            "Epoch 13/500\n",
            "\u001b[1m35/35\u001b[0m \u001b[32m━━━━━━━━━━━━━━━━━━━━\u001b[0m\u001b[37m\u001b[0m \u001b[1m1s\u001b[0m 15ms/step - accuracy: 0.8589 - loss: 0.3092 - val_accuracy: 0.8484 - val_loss: 0.3567 - learning_rate: 5.0000e-04\n",
            "Epoch 14/500\n",
            "\u001b[1m35/35\u001b[0m \u001b[32m━━━━━━━━━━━━━━━━━━━━\u001b[0m\u001b[37m\u001b[0m \u001b[1m1s\u001b[0m 16ms/step - accuracy: 0.8717 - loss: 0.3007 - val_accuracy: 0.8339 - val_loss: 0.3585 - learning_rate: 5.0000e-04\n",
            "Epoch 15/500\n",
            "\u001b[1m35/35\u001b[0m \u001b[32m━━━━━━━━━━━━━━━━━━━━\u001b[0m\u001b[37m\u001b[0m \u001b[1m1s\u001b[0m 18ms/step - accuracy: 0.8723 - loss: 0.2826 - val_accuracy: 0.8357 - val_loss: 0.3769 - learning_rate: 5.0000e-04\n",
            "Epoch 16/500\n",
            "\u001b[1m35/35\u001b[0m \u001b[32m━━━━━━━━━━━━━━━━━━━━\u001b[0m\u001b[37m\u001b[0m \u001b[1m1s\u001b[0m 18ms/step - accuracy: 0.8745 - loss: 0.2861 - val_accuracy: 0.8448 - val_loss: 0.3707 - learning_rate: 5.0000e-04\n",
            "Epoch 17/500\n",
            "\u001b[1m35/35\u001b[0m \u001b[32m━━━━━━━━━━━━━━━━━━━━\u001b[0m\u001b[37m\u001b[0m \u001b[1m1s\u001b[0m 15ms/step - accuracy: 0.8797 - loss: 0.2695 - val_accuracy: 0.8682 - val_loss: 0.3287 - learning_rate: 5.0000e-04\n",
            "Epoch 18/500\n",
            "\u001b[1m35/35\u001b[0m \u001b[32m━━━━━━━━━━━━━━━━━━━━\u001b[0m\u001b[37m\u001b[0m \u001b[1m1s\u001b[0m 16ms/step - accuracy: 0.9091 - loss: 0.2241 - val_accuracy: 0.8863 - val_loss: 0.3304 - learning_rate: 5.0000e-04\n",
            "Epoch 19/500\n",
            "\u001b[1m35/35\u001b[0m \u001b[32m━━━━━━━━━━━━━━━━━━━━\u001b[0m\u001b[37m\u001b[0m \u001b[1m1s\u001b[0m 25ms/step - accuracy: 0.8996 - loss: 0.2386 - val_accuracy: 0.8718 - val_loss: 0.3256 - learning_rate: 5.0000e-04\n",
            "Epoch 20/500\n",
            "\u001b[1m35/35\u001b[0m \u001b[32m━━━━━━━━━━━━━━━━━━━━\u001b[0m\u001b[37m\u001b[0m \u001b[1m1s\u001b[0m 28ms/step - accuracy: 0.9188 - loss: 0.1959 - val_accuracy: 0.8863 - val_loss: 0.3037 - learning_rate: 5.0000e-04\n",
            "Epoch 21/500\n",
            "\u001b[1m35/35\u001b[0m \u001b[32m━━━━━━━━━━━━━━━━━━━━\u001b[0m\u001b[37m\u001b[0m \u001b[1m1s\u001b[0m 20ms/step - accuracy: 0.9165 - loss: 0.2082 - val_accuracy: 0.8736 - val_loss: 0.3295 - learning_rate: 5.0000e-04\n",
            "Epoch 22/500\n",
            "\u001b[1m35/35\u001b[0m \u001b[32m━━━━━━━━━━━━━━━━━━━━\u001b[0m\u001b[37m\u001b[0m \u001b[1m1s\u001b[0m 16ms/step - accuracy: 0.9259 - loss: 0.1832 - val_accuracy: 0.8953 - val_loss: 0.2938 - learning_rate: 5.0000e-04\n",
            "Epoch 23/500\n",
            "\u001b[1m35/35\u001b[0m \u001b[32m━━━━━━━━━━━━━━━━━━━━\u001b[0m\u001b[37m\u001b[0m \u001b[1m1s\u001b[0m 16ms/step - accuracy: 0.9251 - loss: 0.1979 - val_accuracy: 0.8863 - val_loss: 0.3180 - learning_rate: 5.0000e-04\n",
            "Epoch 24/500\n",
            "\u001b[1m35/35\u001b[0m \u001b[32m━━━━━━━━━━━━━━━━━━━━\u001b[0m\u001b[37m\u001b[0m \u001b[1m1s\u001b[0m 20ms/step - accuracy: 0.9309 - loss: 0.1724 - val_accuracy: 0.8881 - val_loss: 0.2961 - learning_rate: 5.0000e-04\n",
            "Epoch 25/500\n",
            "\u001b[1m35/35\u001b[0m \u001b[32m━━━━━━━━━━━━━━━━━━━━\u001b[0m\u001b[37m\u001b[0m \u001b[1m1s\u001b[0m 18ms/step - accuracy: 0.9401 - loss: 0.1554 - val_accuracy: 0.9025 - val_loss: 0.2906 - learning_rate: 5.0000e-04\n",
            "Epoch 26/500\n",
            "\u001b[1m35/35\u001b[0m \u001b[32m━━━━━━━━━━━━━━━━━━━━\u001b[0m\u001b[37m\u001b[0m \u001b[1m1s\u001b[0m 16ms/step - accuracy: 0.9424 - loss: 0.1461 - val_accuracy: 0.9007 - val_loss: 0.2999 - learning_rate: 5.0000e-04\n",
            "Epoch 27/500\n",
            "\u001b[1m35/35\u001b[0m \u001b[32m━━━━━━━━━━━━━━━━━━━━\u001b[0m\u001b[37m\u001b[0m \u001b[1m1s\u001b[0m 17ms/step - accuracy: 0.9316 - loss: 0.1639 - val_accuracy: 0.9097 - val_loss: 0.2689 - learning_rate: 5.0000e-04\n",
            "Epoch 28/500\n",
            "\u001b[1m35/35\u001b[0m \u001b[32m━━━━━━━━━━━━━━━━━━━━\u001b[0m\u001b[37m\u001b[0m \u001b[1m1s\u001b[0m 18ms/step - accuracy: 0.9571 - loss: 0.1261 - val_accuracy: 0.9242 - val_loss: 0.2616 - learning_rate: 5.0000e-04\n",
            "Epoch 29/500\n",
            "\u001b[1m35/35\u001b[0m \u001b[32m━━━━━━━━━━━━━━━━━━━━\u001b[0m\u001b[37m\u001b[0m \u001b[1m1s\u001b[0m 17ms/step - accuracy: 0.9531 - loss: 0.1299 - val_accuracy: 0.9170 - val_loss: 0.2899 - learning_rate: 5.0000e-04\n",
            "Epoch 30/500\n",
            "\u001b[1m35/35\u001b[0m \u001b[32m━━━━━━━━━━━━━━━━━━━━\u001b[0m\u001b[37m\u001b[0m \u001b[1m1s\u001b[0m 20ms/step - accuracy: 0.9557 - loss: 0.1435 - val_accuracy: 0.9043 - val_loss: 0.2790 - learning_rate: 5.0000e-04\n",
            "Epoch 31/500\n",
            "\u001b[1m35/35\u001b[0m \u001b[32m━━━━━━━━━━━━━━━━━━━━\u001b[0m\u001b[37m\u001b[0m \u001b[1m1s\u001b[0m 18ms/step - accuracy: 0.9578 - loss: 0.1164 - val_accuracy: 0.9188 - val_loss: 0.2604 - learning_rate: 5.0000e-04\n",
            "Epoch 32/500\n",
            "\u001b[1m35/35\u001b[0m \u001b[32m━━━━━━━━━━━━━━━━━━━━\u001b[0m\u001b[37m\u001b[0m \u001b[1m2s\u001b[0m 30ms/step - accuracy: 0.9623 - loss: 0.1135 - val_accuracy: 0.9278 - val_loss: 0.2514 - learning_rate: 5.0000e-04\n",
            "Epoch 33/500\n",
            "\u001b[1m35/35\u001b[0m \u001b[32m━━━━━━━━━━━━━━━━━━━━\u001b[0m\u001b[37m\u001b[0m \u001b[1m1s\u001b[0m 27ms/step - accuracy: 0.9639 - loss: 0.0994 - val_accuracy: 0.9368 - val_loss: 0.2474 - learning_rate: 5.0000e-04\n",
            "Epoch 34/500\n",
            "\u001b[1m35/35\u001b[0m \u001b[32m━━━━━━━━━━━━━━━━━━━━\u001b[0m\u001b[37m\u001b[0m \u001b[1m1s\u001b[0m 22ms/step - accuracy: 0.9645 - loss: 0.1093 - val_accuracy: 0.9314 - val_loss: 0.2549 - learning_rate: 5.0000e-04\n",
            "Epoch 35/500\n",
            "\u001b[1m35/35\u001b[0m \u001b[32m━━━━━━━━━━━━━━━━━━━━\u001b[0m\u001b[37m\u001b[0m \u001b[1m1s\u001b[0m 21ms/step - accuracy: 0.9700 - loss: 0.0903 - val_accuracy: 0.9386 - val_loss: 0.2505 - learning_rate: 5.0000e-04\n",
            "Epoch 36/500\n",
            "\u001b[1m35/35\u001b[0m \u001b[32m━━━━━━━━━━━━━━━━━━━━\u001b[0m\u001b[37m\u001b[0m \u001b[1m1s\u001b[0m 18ms/step - accuracy: 0.9706 - loss: 0.0797 - val_accuracy: 0.8917 - val_loss: 0.3311 - learning_rate: 5.0000e-04\n",
            "Epoch 37/500\n",
            "\u001b[1m35/35\u001b[0m \u001b[32m━━━━━━━━━━━━━━━━━━━━\u001b[0m\u001b[37m\u001b[0m \u001b[1m1s\u001b[0m 17ms/step - accuracy: 0.9513 - loss: 0.1128 - val_accuracy: 0.9368 - val_loss: 0.2525 - learning_rate: 5.0000e-04\n",
            "Epoch 38/500\n",
            "\u001b[1m35/35\u001b[0m \u001b[32m━━━━━━━━━━━━━━━━━━━━\u001b[0m\u001b[37m\u001b[0m \u001b[1m1s\u001b[0m 18ms/step - accuracy: 0.9771 - loss: 0.0842 - val_accuracy: 0.9350 - val_loss: 0.2328 - learning_rate: 5.0000e-04\n",
            "Epoch 39/500\n",
            "\u001b[1m35/35\u001b[0m \u001b[32m━━━━━━━━━━━━━━━━━━━━\u001b[0m\u001b[37m\u001b[0m \u001b[1m1s\u001b[0m 18ms/step - accuracy: 0.9774 - loss: 0.0657 - val_accuracy: 0.9422 - val_loss: 0.2529 - learning_rate: 5.0000e-04\n",
            "Epoch 40/500\n",
            "\u001b[1m35/35\u001b[0m \u001b[32m━━━━━━━━━━━━━━━━━━━━\u001b[0m\u001b[37m\u001b[0m \u001b[1m1s\u001b[0m 18ms/step - accuracy: 0.9734 - loss: 0.0702 - val_accuracy: 0.9224 - val_loss: 0.2836 - learning_rate: 5.0000e-04\n",
            "Epoch 41/500\n",
            "\u001b[1m35/35\u001b[0m \u001b[32m━━━━━━━━━━━━━━━━━━━━\u001b[0m\u001b[37m\u001b[0m \u001b[1m1s\u001b[0m 16ms/step - accuracy: 0.9637 - loss: 0.0840 - val_accuracy: 0.9314 - val_loss: 0.2610 - learning_rate: 5.0000e-04\n",
            "Epoch 42/500\n",
            "\u001b[1m35/35\u001b[0m \u001b[32m━━━━━━━━━━━━━━━━━━━━\u001b[0m\u001b[37m\u001b[0m \u001b[1m1s\u001b[0m 18ms/step - accuracy: 0.9770 - loss: 0.0667 - val_accuracy: 0.9314 - val_loss: 0.2578 - learning_rate: 5.0000e-04\n",
            "Epoch 43/500\n",
            "\u001b[1m35/35\u001b[0m \u001b[32m━━━━━━━━━━━━━━━━━━━━\u001b[0m\u001b[37m\u001b[0m \u001b[1m1s\u001b[0m 30ms/step - accuracy: 0.9756 - loss: 0.0584 - val_accuracy: 0.9386 - val_loss: 0.2694 - learning_rate: 5.0000e-04\n",
            "Epoch 44/500\n",
            "\u001b[1m35/35\u001b[0m \u001b[32m━━━━━━━━━━━━━━━━━━━━\u001b[0m\u001b[37m\u001b[0m \u001b[1m1s\u001b[0m 30ms/step - accuracy: 0.9750 - loss: 0.0702 - val_accuracy: 0.9440 - val_loss: 0.2269 - learning_rate: 5.0000e-04\n",
            "Epoch 45/500\n",
            "\u001b[1m35/35\u001b[0m \u001b[32m━━━━━━━━━━━━━━━━━━━━\u001b[0m\u001b[37m\u001b[0m \u001b[1m1s\u001b[0m 28ms/step - accuracy: 0.9836 - loss: 0.0527 - val_accuracy: 0.9458 - val_loss: 0.2491 - learning_rate: 5.0000e-04\n",
            "Epoch 46/500\n",
            "\u001b[1m35/35\u001b[0m \u001b[32m━━━━━━━━━━━━━━━━━━━━\u001b[0m\u001b[37m\u001b[0m \u001b[1m1s\u001b[0m 27ms/step - accuracy: 0.9868 - loss: 0.0469 - val_accuracy: 0.9495 - val_loss: 0.2409 - learning_rate: 5.0000e-04\n",
            "Epoch 47/500\n",
            "\u001b[1m35/35\u001b[0m \u001b[32m━━━━━━━━━━━━━━━━━━━━\u001b[0m\u001b[37m\u001b[0m \u001b[1m1s\u001b[0m 20ms/step - accuracy: 0.9856 - loss: 0.0494 - val_accuracy: 0.9477 - val_loss: 0.2619 - learning_rate: 5.0000e-04\n",
            "Epoch 48/500\n",
            "\u001b[1m35/35\u001b[0m \u001b[32m━━━━━━━━━━━━━━━━━━━━\u001b[0m\u001b[37m\u001b[0m \u001b[1m1s\u001b[0m 17ms/step - accuracy: 0.9833 - loss: 0.0532 - val_accuracy: 0.9477 - val_loss: 0.2392 - learning_rate: 5.0000e-04\n",
            "Epoch 49/500\n",
            "\u001b[1m35/35\u001b[0m \u001b[32m━━━━━━━━━━━━━━━━━━━━\u001b[0m\u001b[37m\u001b[0m \u001b[1m1s\u001b[0m 18ms/step - accuracy: 0.9870 - loss: 0.0392 - val_accuracy: 0.9513 - val_loss: 0.2373 - learning_rate: 5.0000e-04\n",
            "Epoch 50/500\n",
            "\u001b[1m35/35\u001b[0m \u001b[32m━━━━━━━━━━━━━━━━━━━━\u001b[0m\u001b[37m\u001b[0m \u001b[1m1s\u001b[0m 18ms/step - accuracy: 0.9872 - loss: 0.0435 - val_accuracy: 0.9495 - val_loss: 0.2301 - learning_rate: 5.0000e-04\n",
            "Epoch 51/500\n",
            "\u001b[1m35/35\u001b[0m \u001b[32m━━━━━━━━━━━━━━━━━━━━\u001b[0m\u001b[37m\u001b[0m \u001b[1m1s\u001b[0m 17ms/step - accuracy: 0.9864 - loss: 0.0466 - val_accuracy: 0.9458 - val_loss: 0.2306 - learning_rate: 5.0000e-04\n",
            "Epoch 52/500\n",
            "\u001b[1m35/35\u001b[0m \u001b[32m━━━━━━━━━━━━━━━━━━━━\u001b[0m\u001b[37m\u001b[0m \u001b[1m1s\u001b[0m 15ms/step - accuracy: 0.9808 - loss: 0.0497 - val_accuracy: 0.9549 - val_loss: 0.2135 - learning_rate: 5.0000e-04\n",
            "Epoch 53/500\n",
            "\u001b[1m35/35\u001b[0m \u001b[32m━━━━━━━━━━━━━━━━━━━━\u001b[0m\u001b[37m\u001b[0m \u001b[1m1s\u001b[0m 17ms/step - accuracy: 0.9833 - loss: 0.0414 - val_accuracy: 0.9603 - val_loss: 0.2134 - learning_rate: 5.0000e-04\n",
            "Epoch 54/500\n",
            "\u001b[1m35/35\u001b[0m \u001b[32m━━━━━━━━━━━━━━━━━━━━\u001b[0m\u001b[37m\u001b[0m \u001b[1m1s\u001b[0m 19ms/step - accuracy: 0.9914 - loss: 0.0283 - val_accuracy: 0.9531 - val_loss: 0.2608 - learning_rate: 5.0000e-04\n",
            "Epoch 55/500\n",
            "\u001b[1m35/35\u001b[0m \u001b[32m━━━━━━━━━━━━━━━━━━━━\u001b[0m\u001b[37m\u001b[0m \u001b[1m1s\u001b[0m 17ms/step - accuracy: 0.9870 - loss: 0.0384 - val_accuracy: 0.9549 - val_loss: 0.2444 - learning_rate: 5.0000e-04\n",
            "Epoch 56/500\n",
            "\u001b[1m35/35\u001b[0m \u001b[32m━━━━━━━━━━━━━━━━━━━━\u001b[0m\u001b[37m\u001b[0m \u001b[1m1s\u001b[0m 17ms/step - accuracy: 0.9887 - loss: 0.0333 - val_accuracy: 0.9513 - val_loss: 0.2666 - learning_rate: 5.0000e-04\n",
            "Epoch 57/500\n",
            "\u001b[1m35/35\u001b[0m \u001b[32m━━━━━━━━━━━━━━━━━━━━\u001b[0m\u001b[37m\u001b[0m \u001b[1m1s\u001b[0m 16ms/step - accuracy: 0.9851 - loss: 0.0441 - val_accuracy: 0.9621 - val_loss: 0.2502 - learning_rate: 5.0000e-04\n",
            "Epoch 58/500\n",
            "\u001b[1m35/35\u001b[0m \u001b[32m━━━━━━━━━━━━━━━━━━━━\u001b[0m\u001b[37m\u001b[0m \u001b[1m1s\u001b[0m 21ms/step - accuracy: 0.9829 - loss: 0.0572 - val_accuracy: 0.9639 - val_loss: 0.2092 - learning_rate: 5.0000e-04\n",
            "Epoch 59/500\n",
            "\u001b[1m35/35\u001b[0m \u001b[32m━━━━━━━━━━━━━━━━━━━━\u001b[0m\u001b[37m\u001b[0m \u001b[1m1s\u001b[0m 27ms/step - accuracy: 0.9845 - loss: 0.0432 - val_accuracy: 0.9513 - val_loss: 0.2321 - learning_rate: 5.0000e-04\n",
            "Epoch 60/500\n",
            "\u001b[1m35/35\u001b[0m \u001b[32m━━━━━━━━━━━━━━━━━━━━\u001b[0m\u001b[37m\u001b[0m \u001b[1m1s\u001b[0m 32ms/step - accuracy: 0.9804 - loss: 0.0554 - val_accuracy: 0.9585 - val_loss: 0.2219 - learning_rate: 5.0000e-04\n",
            "Epoch 61/500\n",
            "\u001b[1m35/35\u001b[0m \u001b[32m━━━━━━━━━━━━━━━━━━━━\u001b[0m\u001b[37m\u001b[0m \u001b[1m1s\u001b[0m 19ms/step - accuracy: 0.9876 - loss: 0.0363 - val_accuracy: 0.9639 - val_loss: 0.2012 - learning_rate: 5.0000e-04\n",
            "Epoch 62/500\n",
            "\u001b[1m35/35\u001b[0m \u001b[32m━━━━━━━━━━━━━━━━━━━━\u001b[0m\u001b[37m\u001b[0m \u001b[1m1s\u001b[0m 17ms/step - accuracy: 0.9868 - loss: 0.0339 - val_accuracy: 0.9549 - val_loss: 0.2057 - learning_rate: 5.0000e-04\n",
            "Epoch 63/500\n",
            "\u001b[1m35/35\u001b[0m \u001b[32m━━━━━━━━━━━━━━━━━━━━\u001b[0m\u001b[37m\u001b[0m \u001b[1m1s\u001b[0m 16ms/step - accuracy: 0.9845 - loss: 0.0404 - val_accuracy: 0.9567 - val_loss: 0.2486 - learning_rate: 5.0000e-04\n",
            "Epoch 64/500\n",
            "\u001b[1m35/35\u001b[0m \u001b[32m━━━━━━━━━━━━━━━━━━━━\u001b[0m\u001b[37m\u001b[0m \u001b[1m1s\u001b[0m 16ms/step - accuracy: 0.9907 - loss: 0.0273 - val_accuracy: 0.9477 - val_loss: 0.2683 - learning_rate: 5.0000e-04\n",
            "Epoch 65/500\n",
            "\u001b[1m35/35\u001b[0m \u001b[32m━━━━━━━━━━━━━━━━━━━━\u001b[0m\u001b[37m\u001b[0m \u001b[1m1s\u001b[0m 16ms/step - accuracy: 0.9885 - loss: 0.0414 - val_accuracy: 0.9657 - val_loss: 0.2580 - learning_rate: 5.0000e-04\n",
            "Epoch 66/500\n",
            "\u001b[1m35/35\u001b[0m \u001b[32m━━━━━━━━━━━━━━━━━━━━\u001b[0m\u001b[37m\u001b[0m \u001b[1m1s\u001b[0m 16ms/step - accuracy: 0.9892 - loss: 0.0357 - val_accuracy: 0.9585 - val_loss: 0.2366 - learning_rate: 5.0000e-04\n",
            "Epoch 67/500\n",
            "\u001b[1m35/35\u001b[0m \u001b[32m━━━━━━━━━━━━━━━━━━━━\u001b[0m\u001b[37m\u001b[0m \u001b[1m1s\u001b[0m 17ms/step - accuracy: 0.9965 - loss: 0.0194 - val_accuracy: 0.9675 - val_loss: 0.2592 - learning_rate: 5.0000e-04\n",
            "Epoch 68/500\n",
            "\u001b[1m35/35\u001b[0m \u001b[32m━━━━━━━━━━━━━━━━━━━━\u001b[0m\u001b[37m\u001b[0m \u001b[1m1s\u001b[0m 18ms/step - accuracy: 0.9949 - loss: 0.0177 - val_accuracy: 0.9603 - val_loss: 0.2511 - learning_rate: 5.0000e-04\n",
            "Epoch 69/500\n",
            "\u001b[1m35/35\u001b[0m \u001b[32m━━━━━━━━━━━━━━━━━━━━\u001b[0m\u001b[37m\u001b[0m \u001b[1m1s\u001b[0m 16ms/step - accuracy: 0.9946 - loss: 0.0200 - val_accuracy: 0.9621 - val_loss: 0.2324 - learning_rate: 5.0000e-04\n",
            "Epoch 70/500\n",
            "\u001b[1m35/35\u001b[0m \u001b[32m━━━━━━━━━━━━━━━━━━━━\u001b[0m\u001b[37m\u001b[0m \u001b[1m1s\u001b[0m 16ms/step - accuracy: 0.9979 - loss: 0.0132 - val_accuracy: 0.9693 - val_loss: 0.2276 - learning_rate: 5.0000e-04\n",
            "Epoch 71/500\n",
            "\u001b[1m33/35\u001b[0m \u001b[32m━━━━━━━━━━━━━━━━━━\u001b[0m\u001b[37m━━\u001b[0m \u001b[1m0s\u001b[0m 13ms/step - accuracy: 0.9933 - loss: 0.0278\n",
            "Epoch 71: ReduceLROnPlateau reducing learning rate to 0.0002500000118743628.\n",
            "\u001b[1m35/35\u001b[0m \u001b[32m━━━━━━━━━━━━━━━━━━━━\u001b[0m\u001b[37m\u001b[0m \u001b[1m1s\u001b[0m 16ms/step - accuracy: 0.9934 - loss: 0.0274 - val_accuracy: 0.9585 - val_loss: 0.2483 - learning_rate: 5.0000e-04\n",
            "Epoch 72/500\n",
            "\u001b[1m35/35\u001b[0m \u001b[32m━━━━━━━━━━━━━━━━━━━━\u001b[0m\u001b[37m\u001b[0m \u001b[1m1s\u001b[0m 16ms/step - accuracy: 0.9939 - loss: 0.0186 - val_accuracy: 0.9675 - val_loss: 0.2262 - learning_rate: 2.5000e-04\n",
            "Epoch 73/500\n",
            "\u001b[1m35/35\u001b[0m \u001b[32m━━━━━━━━━━━━━━━━━━━━\u001b[0m\u001b[37m\u001b[0m \u001b[1m1s\u001b[0m 16ms/step - accuracy: 0.9929 - loss: 0.0185 - val_accuracy: 0.9711 - val_loss: 0.2410 - learning_rate: 2.5000e-04\n",
            "Epoch 74/500\n",
            "\u001b[1m35/35\u001b[0m \u001b[32m━━━━━━━━━━━━━━━━━━━━\u001b[0m\u001b[37m\u001b[0m \u001b[1m1s\u001b[0m 16ms/step - accuracy: 0.9982 - loss: 0.0092 - val_accuracy: 0.9693 - val_loss: 0.2426 - learning_rate: 2.5000e-04\n",
            "Epoch 75/500\n",
            "\u001b[1m35/35\u001b[0m \u001b[32m━━━━━━━━━━━━━━━━━━━━\u001b[0m\u001b[37m\u001b[0m \u001b[1m1s\u001b[0m 29ms/step - accuracy: 0.9990 - loss: 0.0097 - val_accuracy: 0.9693 - val_loss: 0.2527 - learning_rate: 2.5000e-04\n",
            "Epoch 76/500\n",
            "\u001b[1m35/35\u001b[0m \u001b[32m━━━━━━━━━━━━━━━━━━━━\u001b[0m\u001b[37m\u001b[0m \u001b[1m1s\u001b[0m 25ms/step - accuracy: 0.9987 - loss: 0.0072 - val_accuracy: 0.9657 - val_loss: 0.2508 - learning_rate: 2.5000e-04\n",
            "Epoch 77/500\n",
            "\u001b[1m35/35\u001b[0m \u001b[32m━━━━━━━━━━━━━━━━━━━━\u001b[0m\u001b[37m\u001b[0m \u001b[1m1s\u001b[0m 31ms/step - accuracy: 0.9982 - loss: 0.0081 - val_accuracy: 0.9711 - val_loss: 0.2399 - learning_rate: 2.5000e-04\n",
            "Epoch 78/500\n",
            "\u001b[1m35/35\u001b[0m \u001b[32m━━━━━━━━━━━━━━━━━━━━\u001b[0m\u001b[37m\u001b[0m \u001b[1m1s\u001b[0m 16ms/step - accuracy: 0.9996 - loss: 0.0063 - val_accuracy: 0.9675 - val_loss: 0.2406 - learning_rate: 2.5000e-04\n",
            "Epoch 79/500\n",
            "\u001b[1m35/35\u001b[0m \u001b[32m━━━━━━━━━━━━━━━━━━━━\u001b[0m\u001b[37m\u001b[0m \u001b[1m1s\u001b[0m 17ms/step - accuracy: 0.9986 - loss: 0.0078 - val_accuracy: 0.9711 - val_loss: 0.2429 - learning_rate: 2.5000e-04\n",
            "Epoch 80/500\n",
            "\u001b[1m35/35\u001b[0m \u001b[32m━━━━━━━━━━━━━━━━━━━━\u001b[0m\u001b[37m\u001b[0m \u001b[1m1s\u001b[0m 16ms/step - accuracy: 0.9980 - loss: 0.0062 - val_accuracy: 0.9711 - val_loss: 0.2381 - learning_rate: 2.5000e-04\n",
            "Epoch 81/500\n",
            "\u001b[1m32/35\u001b[0m \u001b[32m━━━━━━━━━━━━━━━━━━\u001b[0m\u001b[37m━━\u001b[0m \u001b[1m0s\u001b[0m 13ms/step - accuracy: 0.9978 - loss: 0.0066\n",
            "Epoch 81: ReduceLROnPlateau reducing learning rate to 0.0001250000059371814.\n",
            "\u001b[1m35/35\u001b[0m \u001b[32m━━━━━━━━━━━━━━━━━━━━\u001b[0m\u001b[37m\u001b[0m \u001b[1m1s\u001b[0m 15ms/step - accuracy: 0.9977 - loss: 0.0070 - val_accuracy: 0.9693 - val_loss: 0.2481 - learning_rate: 2.5000e-04\n",
            "Epoch 82/500\n",
            "\u001b[1m35/35\u001b[0m \u001b[32m━━━━━━━━━━━━━━━━━━━━\u001b[0m\u001b[37m\u001b[0m \u001b[1m1s\u001b[0m 17ms/step - accuracy: 0.9996 - loss: 0.0055 - val_accuracy: 0.9729 - val_loss: 0.2382 - learning_rate: 1.2500e-04\n",
            "Epoch 83/500\n",
            "\u001b[1m35/35\u001b[0m \u001b[32m━━━━━━━━━━━━━━━━━━━━\u001b[0m\u001b[37m\u001b[0m \u001b[1m1s\u001b[0m 18ms/step - accuracy: 0.9995 - loss: 0.0044 - val_accuracy: 0.9711 - val_loss: 0.2373 - learning_rate: 1.2500e-04\n",
            "Epoch 84/500\n",
            "\u001b[1m35/35\u001b[0m \u001b[32m━━━━━━━━━━━━━━━━━━━━\u001b[0m\u001b[37m\u001b[0m \u001b[1m1s\u001b[0m 16ms/step - accuracy: 0.9993 - loss: 0.0078 - val_accuracy: 0.9711 - val_loss: 0.2495 - learning_rate: 1.2500e-04\n",
            "Epoch 85/500\n",
            "\u001b[1m35/35\u001b[0m \u001b[32m━━━━━━━━━━━━━━━━━━━━\u001b[0m\u001b[37m\u001b[0m \u001b[1m1s\u001b[0m 18ms/step - accuracy: 0.9984 - loss: 0.0066 - val_accuracy: 0.9711 - val_loss: 0.2506 - learning_rate: 1.2500e-04\n",
            "Epoch 86/500\n",
            "\u001b[1m35/35\u001b[0m \u001b[32m━━━━━━━━━━━━━━━━━━━━\u001b[0m\u001b[37m\u001b[0m \u001b[1m1s\u001b[0m 15ms/step - accuracy: 1.0000 - loss: 0.0046 - val_accuracy: 0.9711 - val_loss: 0.2496 - learning_rate: 1.2500e-04\n",
            "Epoch 87/500\n",
            "\u001b[1m35/35\u001b[0m \u001b[32m━━━━━━━━━━━━━━━━━━━━\u001b[0m\u001b[37m\u001b[0m \u001b[1m1s\u001b[0m 18ms/step - accuracy: 0.9996 - loss: 0.0034 - val_accuracy: 0.9711 - val_loss: 0.2474 - learning_rate: 1.2500e-04\n",
            "Epoch 88/500\n",
            "\u001b[1m35/35\u001b[0m \u001b[32m━━━━━━━━━━━━━━━━━━━━\u001b[0m\u001b[37m\u001b[0m \u001b[1m1s\u001b[0m 18ms/step - accuracy: 0.9995 - loss: 0.0042 - val_accuracy: 0.9711 - val_loss: 0.2498 - learning_rate: 1.2500e-04\n",
            "Epoch 89/500\n",
            "\u001b[1m35/35\u001b[0m \u001b[32m━━━━━━━━━━━━━━━━━━━━\u001b[0m\u001b[37m\u001b[0m \u001b[1m1s\u001b[0m 17ms/step - accuracy: 0.9993 - loss: 0.0036 - val_accuracy: 0.9711 - val_loss: 0.2517 - learning_rate: 1.2500e-04\n",
            "Epoch 90/500\n",
            "\u001b[1m35/35\u001b[0m \u001b[32m━━━━━━━━━━━━━━━━━━━━\u001b[0m\u001b[37m\u001b[0m \u001b[1m1s\u001b[0m 26ms/step - accuracy: 1.0000 - loss: 0.0038 - val_accuracy: 0.9711 - val_loss: 0.2524 - learning_rate: 1.2500e-04\n",
            "Epoch 91/500\n",
            "\u001b[1m34/35\u001b[0m \u001b[32m━━━━━━━━━━━━━━━━━━━\u001b[0m\u001b[37m━\u001b[0m \u001b[1m0s\u001b[0m 22ms/step - accuracy: 0.9992 - loss: 0.0051\n",
            "Epoch 91: ReduceLROnPlateau reducing learning rate to 6.25000029685907e-05.\n",
            "\u001b[1m35/35\u001b[0m \u001b[32m━━━━━━━━━━━━━━━━━━━━\u001b[0m\u001b[37m\u001b[0m \u001b[1m1s\u001b[0m 27ms/step - accuracy: 0.9992 - loss: 0.0051 - val_accuracy: 0.9693 - val_loss: 0.2547 - learning_rate: 1.2500e-04\n",
            "Epoch 92/500\n",
            "\u001b[1m35/35\u001b[0m \u001b[32m━━━━━━━━━━━━━━━━━━━━\u001b[0m\u001b[37m\u001b[0m \u001b[1m1s\u001b[0m 27ms/step - accuracy: 0.9999 - loss: 0.0038 - val_accuracy: 0.9693 - val_loss: 0.2574 - learning_rate: 6.2500e-05\n",
            "Epoch 93/500\n",
            "\u001b[1m35/35\u001b[0m \u001b[32m━━━━━━━━━━━━━━━━━━━━\u001b[0m\u001b[37m\u001b[0m \u001b[1m1s\u001b[0m 16ms/step - accuracy: 1.0000 - loss: 0.0037 - val_accuracy: 0.9693 - val_loss: 0.2591 - learning_rate: 6.2500e-05\n",
            "Epoch 94/500\n",
            "\u001b[1m35/35\u001b[0m \u001b[32m━━━━━━━━━━━━━━━━━━━━\u001b[0m\u001b[37m\u001b[0m \u001b[1m1s\u001b[0m 18ms/step - accuracy: 0.9983 - loss: 0.0047 - val_accuracy: 0.9693 - val_loss: 0.2553 - learning_rate: 6.2500e-05\n",
            "Epoch 95/500\n",
            "\u001b[1m35/35\u001b[0m \u001b[32m━━━━━━━━━━━━━━━━━━━━\u001b[0m\u001b[37m\u001b[0m \u001b[1m1s\u001b[0m 18ms/step - accuracy: 0.9999 - loss: 0.0049 - val_accuracy: 0.9693 - val_loss: 0.2569 - learning_rate: 6.2500e-05\n",
            "Epoch 96/500\n",
            "\u001b[1m35/35\u001b[0m \u001b[32m━━━━━━━━━━━━━━━━━━━━\u001b[0m\u001b[37m\u001b[0m \u001b[1m1s\u001b[0m 16ms/step - accuracy: 0.9995 - loss: 0.0046 - val_accuracy: 0.9693 - val_loss: 0.2584 - learning_rate: 6.2500e-05\n",
            "Epoch 97/500\n",
            "\u001b[1m35/35\u001b[0m \u001b[32m━━━━━━━━━━━━━━━━━━━━\u001b[0m\u001b[37m\u001b[0m \u001b[1m1s\u001b[0m 17ms/step - accuracy: 1.0000 - loss: 0.0034 - val_accuracy: 0.9693 - val_loss: 0.2576 - learning_rate: 6.2500e-05\n",
            "Epoch 98/500\n",
            "\u001b[1m35/35\u001b[0m \u001b[32m━━━━━━━━━━━━━━━━━━━━\u001b[0m\u001b[37m\u001b[0m \u001b[1m1s\u001b[0m 16ms/step - accuracy: 0.9992 - loss: 0.0033 - val_accuracy: 0.9675 - val_loss: 0.2592 - learning_rate: 6.2500e-05\n",
            "Epoch 99/500\n",
            "\u001b[1m35/35\u001b[0m \u001b[32m━━━━━━━━━━━━━━━━━━━━\u001b[0m\u001b[37m\u001b[0m \u001b[1m1s\u001b[0m 17ms/step - accuracy: 0.9973 - loss: 0.0063 - val_accuracy: 0.9693 - val_loss: 0.2624 - learning_rate: 6.2500e-05\n",
            "Epoch 100/500\n",
            "\u001b[1m35/35\u001b[0m \u001b[32m━━━━━━━━━━━━━━━━━━━━\u001b[0m\u001b[37m\u001b[0m \u001b[1m1s\u001b[0m 19ms/step - accuracy: 0.9971 - loss: 0.0055 - val_accuracy: 0.9693 - val_loss: 0.2576 - learning_rate: 6.2500e-05\n",
            "Epoch 101/500\n",
            "\u001b[1m35/35\u001b[0m \u001b[32m━━━━━━━━━━━━━━━━━━━━\u001b[0m\u001b[37m\u001b[0m \u001b[1m0s\u001b[0m 16ms/step - accuracy: 1.0000 - loss: 0.0036\n",
            "Epoch 101: ReduceLROnPlateau reducing learning rate to 3.125000148429535e-05.\n",
            "\u001b[1m35/35\u001b[0m \u001b[32m━━━━━━━━━━━━━━━━━━━━\u001b[0m\u001b[37m\u001b[0m \u001b[1m1s\u001b[0m 20ms/step - accuracy: 1.0000 - loss: 0.0036 - val_accuracy: 0.9693 - val_loss: 0.2537 - learning_rate: 6.2500e-05\n",
            "Epoch 102/500\n",
            "\u001b[1m35/35\u001b[0m \u001b[32m━━━━━━━━━━━━━━━━━━━━\u001b[0m\u001b[37m\u001b[0m \u001b[1m1s\u001b[0m 21ms/step - accuracy: 0.9992 - loss: 0.0040 - val_accuracy: 0.9693 - val_loss: 0.2562 - learning_rate: 3.1250e-05\n",
            "Epoch 103/500\n",
            "\u001b[1m35/35\u001b[0m \u001b[32m━━━━━━━━━━━━━━━━━━━━\u001b[0m\u001b[37m\u001b[0m \u001b[1m1s\u001b[0m 18ms/step - accuracy: 0.9998 - loss: 0.0035 - val_accuracy: 0.9693 - val_loss: 0.2571 - learning_rate: 3.1250e-05\n",
            "Epoch 104/500\n",
            "\u001b[1m35/35\u001b[0m \u001b[32m━━━━━━━━━━━━━━━━━━━━\u001b[0m\u001b[37m\u001b[0m \u001b[1m2s\u001b[0m 28ms/step - accuracy: 0.9998 - loss: 0.0044 - val_accuracy: 0.9693 - val_loss: 0.2573 - learning_rate: 3.1250e-05\n",
            "Epoch 105/500\n",
            "\u001b[1m35/35\u001b[0m \u001b[32m━━━━━━━━━━━━━━━━━━━━\u001b[0m\u001b[37m\u001b[0m \u001b[1m1s\u001b[0m 26ms/step - accuracy: 1.0000 - loss: 0.0039 - val_accuracy: 0.9693 - val_loss: 0.2585 - learning_rate: 3.1250e-05\n",
            "Epoch 106/500\n",
            "\u001b[1m35/35\u001b[0m \u001b[32m━━━━━━━━━━━━━━━━━━━━\u001b[0m\u001b[37m\u001b[0m \u001b[1m1s\u001b[0m 28ms/step - accuracy: 0.9994 - loss: 0.0041 - val_accuracy: 0.9693 - val_loss: 0.2581 - learning_rate: 3.1250e-05\n",
            "Epoch 107/500\n",
            "\u001b[1m35/35\u001b[0m \u001b[32m━━━━━━━━━━━━━━━━━━━━\u001b[0m\u001b[37m\u001b[0m \u001b[1m1s\u001b[0m 19ms/step - accuracy: 1.0000 - loss: 0.0030 - val_accuracy: 0.9711 - val_loss: 0.2574 - learning_rate: 3.1250e-05\n",
            "Epoch 108/500\n",
            "\u001b[1m35/35\u001b[0m \u001b[32m━━━━━━━━━━━━━━━━━━━━\u001b[0m\u001b[37m\u001b[0m \u001b[1m1s\u001b[0m 18ms/step - accuracy: 0.9996 - loss: 0.0031 - val_accuracy: 0.9693 - val_loss: 0.2583 - learning_rate: 3.1250e-05\n",
            "Epoch 109/500\n",
            "\u001b[1m35/35\u001b[0m \u001b[32m━━━━━━━━━━━━━━━━━━━━\u001b[0m\u001b[37m\u001b[0m \u001b[1m1s\u001b[0m 17ms/step - accuracy: 0.9997 - loss: 0.0026 - val_accuracy: 0.9693 - val_loss: 0.2567 - learning_rate: 3.1250e-05\n",
            "Epoch 110/500\n",
            "\u001b[1m35/35\u001b[0m \u001b[32m━━━━━━━━━━━━━━━━━━━━\u001b[0m\u001b[37m\u001b[0m \u001b[1m1s\u001b[0m 18ms/step - accuracy: 1.0000 - loss: 0.0022 - val_accuracy: 0.9693 - val_loss: 0.2565 - learning_rate: 3.1250e-05\n",
            "Epoch 111/500\n",
            "\u001b[1m34/35\u001b[0m \u001b[32m━━━━━━━━━━━━━━━━━━━\u001b[0m\u001b[37m━\u001b[0m \u001b[1m0s\u001b[0m 17ms/step - accuracy: 0.9998 - loss: 0.0029\n",
            "Epoch 111: ReduceLROnPlateau reducing learning rate to 1.5625000742147677e-05.\n",
            "\u001b[1m35/35\u001b[0m \u001b[32m━━━━━━━━━━━━━━━━━━━━\u001b[0m\u001b[37m\u001b[0m \u001b[1m1s\u001b[0m 20ms/step - accuracy: 0.9998 - loss: 0.0030 - val_accuracy: 0.9711 - val_loss: 0.2532 - learning_rate: 3.1250e-05\n"
          ]
        }
      ]
    },
    {
      "cell_type": "code",
      "source": [
        "y_pred = model.predict(X_test)\n",
        "y_pred = (y_pred > 0.5)"
      ],
      "metadata": {
        "colab": {
          "base_uri": "https://localhost:8080/"
        },
        "id": "EU6pavNnq4WA",
        "outputId": "d565373b-9591-4aa9-e230-6d099bc42002"
      },
      "execution_count": 22,
      "outputs": [
        {
          "output_type": "stream",
          "name": "stdout",
          "text": [
            "\u001b[1m18/18\u001b[0m \u001b[32m━━━━━━━━━━━━━━━━━━━━\u001b[0m\u001b[37m\u001b[0m \u001b[1m0s\u001b[0m 6ms/step\n"
          ]
        }
      ]
    },
    {
      "cell_type": "code",
      "source": [
        "cm = confusion_matrix(y_test, y_pred)\n",
        "accuracy = accuracy_score(y_test, y_pred)"
      ],
      "metadata": {
        "id": "byJd-cEiq7x_"
      },
      "execution_count": 23,
      "outputs": []
    },
    {
      "cell_type": "code",
      "source": [
        "print(\"Confusion Matrix:\")\n",
        "print(cm)\n",
        "print(f\"Accuracy: {accuracy * 100:.2f}%\")"
      ],
      "metadata": {
        "colab": {
          "base_uri": "https://localhost:8080/"
        },
        "id": "MdQbYbIxwE-w",
        "outputId": "b4847169-5453-4a5f-a32f-25488d0e1738"
      },
      "execution_count": 24,
      "outputs": [
        {
          "output_type": "stream",
          "name": "stdout",
          "text": [
            "Confusion Matrix:\n",
            "[[360  14]\n",
            " [  6 174]]\n",
            "Accuracy: 96.39%\n"
          ]
        }
      ]
    },
    {
      "cell_type": "code",
      "source": [
        "plt.figure(figsize=(6,4))\n",
        "plt.plot(history.history['accuracy'], label='Training Accuracy')\n",
        "plt.plot(history.history['val_accuracy'], label='Validation Accuracy')\n",
        "plt.xlabel('Epochs')\n",
        "plt.ylabel('Accuracy')\n",
        "plt.title('Training vs Validation Accuracy')\n",
        "plt.legend(loc='lower right')\n",
        "plt.show()\n"
      ],
      "metadata": {
        "colab": {
          "base_uri": "https://localhost:8080/",
          "height": 410
        },
        "id": "Rj5T2x3zrZfW",
        "outputId": "41f86984-6e22-4cf3-ff05-6da894668542"
      },
      "execution_count": 25,
      "outputs": [
        {
          "output_type": "display_data",
          "data": {
            "text/plain": [
              "<Figure size 600x400 with 1 Axes>"
            ],
            "image/png": "[encoded data removed]"
          },
          "metadata": {}
        }
      ]
    },
    {
      "cell_type": "code",
      "source": [
        "plt.figure(figsize=(6,4))\n",
        "plt.plot(history.history['loss'], label='Training Loss')\n",
        "plt.plot(history.history['val_loss'], label='Validation Loss')\n",
        "plt.xlabel('Epochs')\n",
        "plt.ylabel('Loss')\n",
        "plt.title('Training vs Validation Loss')\n",
        "plt.legend(loc='upper right')\n",
        "plt.show()\n"
      ],
      "metadata": {
        "colab": {
          "base_uri": "https://localhost:8080/",
          "height": 410
        },
        "id": "14khnVf4uX_L",
        "outputId": "a288e2b3-d38d-439f-ce47-4be2b4b93eb0"
      },
      "execution_count": null,
      "outputs": [
        {
          "output_type": "display_data",
          "data": {
            "text/plain": [
              "<Figure size 600x400 with 1 Axes>"
            ],
            "image/png": "[encoded data removed]"
          },
          "metadata": {}
        }
      ]
    },
    {
      "cell_type": "code",
      "source": [
        "filename = 'diabetes_model.pkl'\n",
        "with open(filename, 'wb') as file:\n",
        "    pickle.dump(model, file)"
      ],
      "metadata": {
        "id": "1qMEM1VvMTvw"
      },
      "execution_count": 28,
      "outputs": []
    },
    {
      "cell_type": "code",
      "source": [
        "with open('diabetes_model.pkl', 'rb') as file:\n",
        "    loaded_model = pickle.load(file)\n"
      ],
      "metadata": {
        "id": "cd0EmWW4NI5e"
      },
      "execution_count": 29,
      "outputs": []
    }
  ]
}